{
 "cells": [
  {
   "cell_type": "code",
   "execution_count": 1,
   "id": "71852800",
   "metadata": {},
   "outputs": [],
   "source": [
    "import tensorflow as tf\n",
    "from sklearn.preprocessing import MinMaxScaler\n",
    "from tensorflow import keras\n",
    "from keras.models import Sequential\n",
    "from keras.layers import Dropout,Dense,LSTM\n",
    "import pandas as pd\n",
    "import matplotlib.pyplot as plt\n",
    "import seaborn as sns"
   ]
  },
  {
   "cell_type": "code",
   "execution_count": 2,
   "id": "f74c0e99",
   "metadata": {},
   "outputs": [
    {
     "data": {
      "text/html": [
       "<div>\n",
       "<style scoped>\n",
       "    .dataframe tbody tr th:only-of-type {\n",
       "        vertical-align: middle;\n",
       "    }\n",
       "\n",
       "    .dataframe tbody tr th {\n",
       "        vertical-align: top;\n",
       "    }\n",
       "\n",
       "    .dataframe thead th {\n",
       "        text-align: right;\n",
       "    }\n",
       "</style>\n",
       "<table border=\"1\" class=\"dataframe\">\n",
       "  <thead>\n",
       "    <tr style=\"text-align: right;\">\n",
       "      <th></th>\n",
       "      <th>Date</th>\n",
       "      <th>\\nOil volume (m3/day)</th>\n",
       "      <th>Volume of liquid (m3/day)</th>\n",
       "      <th>\\nGas volume (m3/day)</th>\n",
       "      <th>Water volume (m3/day)</th>\n",
       "      <th>Water cut (%)</th>\n",
       "      <th>\\nWorking hours</th>\n",
       "      <th>\\nDynamic level (m)</th>\n",
       "      <th>\\nReservoir pressure (atm)</th>\n",
       "    </tr>\n",
       "  </thead>\n",
       "  <tbody>\n",
       "    <tr>\n",
       "      <th>0</th>\n",
       "      <td>2013-01-01</td>\n",
       "      <td>49</td>\n",
       "      <td>70</td>\n",
       "      <td>13055</td>\n",
       "      <td>21</td>\n",
       "      <td>29</td>\n",
       "      <td>24</td>\n",
       "      <td>1819</td>\n",
       "      <td>214</td>\n",
       "    </tr>\n",
       "    <tr>\n",
       "      <th>1</th>\n",
       "      <td>2013-01-02</td>\n",
       "      <td>49</td>\n",
       "      <td>70</td>\n",
       "      <td>13055</td>\n",
       "      <td>21</td>\n",
       "      <td>29</td>\n",
       "      <td>24</td>\n",
       "      <td>1836</td>\n",
       "      <td>214</td>\n",
       "    </tr>\n",
       "    <tr>\n",
       "      <th>2</th>\n",
       "      <td>2013-01-03</td>\n",
       "      <td>49</td>\n",
       "      <td>70</td>\n",
       "      <td>13055</td>\n",
       "      <td>21</td>\n",
       "      <td>29</td>\n",
       "      <td>24</td>\n",
       "      <td>1788</td>\n",
       "      <td>214</td>\n",
       "    </tr>\n",
       "    <tr>\n",
       "      <th>3</th>\n",
       "      <td>2013-01-04</td>\n",
       "      <td>49</td>\n",
       "      <td>70</td>\n",
       "      <td>13055</td>\n",
       "      <td>21</td>\n",
       "      <td>29</td>\n",
       "      <td>24</td>\n",
       "      <td>1789</td>\n",
       "      <td>214</td>\n",
       "    </tr>\n",
       "    <tr>\n",
       "      <th>4</th>\n",
       "      <td>2013-01-05</td>\n",
       "      <td>44</td>\n",
       "      <td>70</td>\n",
       "      <td>11768</td>\n",
       "      <td>26</td>\n",
       "      <td>36</td>\n",
       "      <td>24</td>\n",
       "      <td>1825</td>\n",
       "      <td>214</td>\n",
       "    </tr>\n",
       "  </tbody>\n",
       "</table>\n",
       "</div>"
      ],
      "text/plain": [
       "        Date  \\nOil volume (m3/day)  Volume of liquid (m3/day)  \\\n",
       "0 2013-01-01                     49                         70   \n",
       "1 2013-01-02                     49                         70   \n",
       "2 2013-01-03                     49                         70   \n",
       "3 2013-01-04                     49                         70   \n",
       "4 2013-01-05                     44                         70   \n",
       "\n",
       "   \\nGas volume (m3/day)  Water volume (m3/day)  Water cut (%)   \\\n",
       "0                  13055                     21              29   \n",
       "1                  13055                     21              29   \n",
       "2                  13055                     21              29   \n",
       "3                  13055                     21              29   \n",
       "4                  11768                     26              36   \n",
       "\n",
       "   \\nWorking hours  \\nDynamic level (m)  \\nReservoir pressure (atm)  \n",
       "0               24                 1819                         214  \n",
       "1               24                 1836                         214  \n",
       "2               24                 1788                         214  \n",
       "3               24                 1789                         214  \n",
       "4               24                 1825                         214  "
      ]
     },
     "execution_count": 2,
     "metadata": {},
     "output_type": "execute_result"
    }
   ],
   "source": [
    "# load the excel data\n",
    "\n",
    "df = pd.read_excel('Oil well.xlsx',header=2)\n",
    "df.head()"
   ]
  },
  {
   "cell_type": "code",
   "execution_count": 3,
   "id": "10ec1d66",
   "metadata": {},
   "outputs": [],
   "source": [
    "# rename the columns\n",
    "\n",
    "col_mapper = {'\\nOil volume (m3/day)':'Oil_volume',\n",
    "             'Volume of liquid (m3/day)':'Volume_of_liquid',\n",
    "             '\\nGas volume (m3/day)':'Gas_volume',\n",
    "             'Water volume (m3/day)':'Water_volume',\n",
    "             'Water cut (%)':'Water_cut',\n",
    "             '\\nWorking hours':'Working_hours',\n",
    "             '\\nDynamic level (m)':'Dynamic_level',\n",
    "             '\\nReservoir pressure (atm)':'Reservoir_pressure'}\n",
    "\n",
    "df.rename(col_mapper,axis=1,inplace=True)"
   ]
  },
  {
   "cell_type": "code",
   "execution_count": 4,
   "id": "32592836",
   "metadata": {},
   "outputs": [],
   "source": [
    "# set the column names as a lowercase\n",
    "\n",
    "df.columns = df.columns.str.lower()"
   ]
  },
  {
   "cell_type": "code",
   "execution_count": 5,
   "id": "6cdc09d9",
   "metadata": {},
   "outputs": [],
   "source": [
    "# set the date column as index\n",
    "\n",
    "df.set_index('date',inplace=True)"
   ]
  },
  {
   "cell_type": "code",
   "execution_count": 6,
   "id": "a61c53ae",
   "metadata": {},
   "outputs": [],
   "source": [
    "# select the oil volume column for prediction\n",
    "\n",
    "df_temp = df['oil_volume'].copy()"
   ]
  },
  {
   "cell_type": "code",
   "execution_count": 7,
   "id": "f797b890",
   "metadata": {},
   "outputs": [
    {
     "data": {
      "text/plain": [
       "date\n",
       "2013-01-01    49\n",
       "2013-01-02    49\n",
       "2013-01-03    49\n",
       "2013-01-04    49\n",
       "2013-01-05    44\n",
       "Name: oil_volume, dtype: int64"
      ]
     },
     "execution_count": 7,
     "metadata": {},
     "output_type": "execute_result"
    }
   ],
   "source": [
    "df_temp.head()"
   ]
  },
  {
   "cell_type": "code",
   "execution_count": 8,
   "id": "6b210031",
   "metadata": {},
   "outputs": [
    {
     "data": {
      "text/plain": [
       "(2939,)"
      ]
     },
     "execution_count": 8,
     "metadata": {},
     "output_type": "execute_result"
    }
   ],
   "source": [
    "# shape of the time series data for the oil well column\n",
    "\n",
    "df_temp.shape"
   ]
  },
  {
   "cell_type": "code",
   "execution_count": 9,
   "id": "a9852fd4",
   "metadata": {},
   "outputs": [],
   "source": [
    "# min max scaling of the input\n",
    "\n",
    "min_max = MinMaxScaler()\n",
    "\n",
    "X_train_scaled = min_max.fit_transform(df_temp.values.reshape(-1,1))"
   ]
  },
  {
   "cell_type": "code",
   "execution_count": 10,
   "id": "94b9de0e",
   "metadata": {},
   "outputs": [],
   "source": [
    "# create the data\n",
    "\n",
    "X_train = []\n",
    "y_train = []\n",
    "\n",
    "for i in range(60,len(df)):  # create the data for 60 timesteps (history of about 2 months)\n",
    "    X_train.append(X_train_scaled[i-60:i,0])\n",
    "    y_train.append(X_train_scaled[i,0])\n",
    "    "
   ]
  },
  {
   "cell_type": "code",
   "execution_count": 11,
   "id": "cb102ea2",
   "metadata": {},
   "outputs": [],
   "source": [
    "import numpy as np"
   ]
  },
  {
   "cell_type": "code",
   "execution_count": 12,
   "id": "5a33359d",
   "metadata": {},
   "outputs": [
    {
     "name": "stdout",
     "output_type": "stream",
     "text": [
      "(2879, 60)\n",
      "(2879,)\n"
     ]
    }
   ],
   "source": [
    "# convert the list into arrays\n",
    "\n",
    "X_train = np.array(X_train)\n",
    "print(X_train.shape)\n",
    "\n",
    "y_train = np.array(y_train)\n",
    "print(y_train.shape)"
   ]
  },
  {
   "cell_type": "code",
   "execution_count": 13,
   "id": "9d117d35",
   "metadata": {},
   "outputs": [],
   "source": [
    "# reshape the train data for input in the model\n",
    "\n",
    "X_train = np.reshape(X_train,(X_train.shape[0],X_train.shape[1],1))"
   ]
  },
  {
   "cell_type": "code",
   "execution_count": 14,
   "id": "96df48e5",
   "metadata": {},
   "outputs": [
    {
     "data": {
      "text/plain": [
       "(2879, 60, 1)"
      ]
     },
     "execution_count": 14,
     "metadata": {},
     "output_type": "execute_result"
    }
   ],
   "source": [
    "# shape of X_train \n",
    "\n",
    "X_train.shape"
   ]
  },
  {
   "cell_type": "code",
   "execution_count": 15,
   "id": "8e05c6b1",
   "metadata": {},
   "outputs": [],
   "source": [
    "# build the model\n",
    "\n",
    "model = Sequential()\n",
    "\n",
    "# add the first LSTM layer\n",
    "model.add(LSTM(units=50,return_sequences=True,input_shape=(X_train.shape[1],1)))\n",
    "model.add(Dropout(rate=0.2))\n",
    "\n",
    "\n",
    "# add the second LSTM layer\n",
    "model.add(LSTM(units=50,return_sequences=True))\n",
    "model.add(Dropout(rate=0.2))\n",
    "          \n",
    "# add the third LSTM layer\n",
    "model.add(LSTM(units=50,return_sequences=True))\n",
    "model.add(Dropout(rate=0.2))\n",
    "\n",
    "# add fourth LSTM layer\n",
    "model.add(LSTM(units=50,return_sequences=False))\n",
    "model.add(Dropout(rate=0.2))\n",
    "          \n",
    "# add output layer\n",
    "          \n",
    "model.add(Dense(units=1))\n",
    "          "
   ]
  },
  {
   "cell_type": "code",
   "execution_count": 16,
   "id": "078051c4",
   "metadata": {},
   "outputs": [
    {
     "name": "stdout",
     "output_type": "stream",
     "text": [
      "Model: \"sequential\"\n",
      "_________________________________________________________________\n",
      " Layer (type)                Output Shape              Param #   \n",
      "=================================================================\n",
      " lstm (LSTM)                 (None, 60, 50)            10400     \n",
      "                                                                 \n",
      " dropout (Dropout)           (None, 60, 50)            0         \n",
      "                                                                 \n",
      " lstm_1 (LSTM)               (None, 60, 50)            20200     \n",
      "                                                                 \n",
      " dropout_1 (Dropout)         (None, 60, 50)            0         \n",
      "                                                                 \n",
      " lstm_2 (LSTM)               (None, 60, 50)            20200     \n",
      "                                                                 \n",
      " dropout_2 (Dropout)         (None, 60, 50)            0         \n",
      "                                                                 \n",
      " lstm_3 (LSTM)               (None, 50)                20200     \n",
      "                                                                 \n",
      " dropout_3 (Dropout)         (None, 50)                0         \n",
      "                                                                 \n",
      " dense (Dense)               (None, 1)                 51        \n",
      "                                                                 \n",
      "=================================================================\n",
      "Total params: 71,051\n",
      "Trainable params: 71,051\n",
      "Non-trainable params: 0\n",
      "_________________________________________________________________\n"
     ]
    }
   ],
   "source": [
    "# generate the summary of the model\n",
    "model.summary()"
   ]
  },
  {
   "cell_type": "code",
   "execution_count": 17,
   "id": "ddf875ac",
   "metadata": {},
   "outputs": [],
   "source": [
    "# compile the model\n",
    "\n",
    "model.compile(optimizer='adam',loss='mean_squared_error',run_eagerly=True)"
   ]
  },
  {
   "cell_type": "code",
   "execution_count": 18,
   "id": "85cba717",
   "metadata": {},
   "outputs": [
    {
     "name": "stdout",
     "output_type": "stream",
     "text": [
      "Epoch 1/5\n",
      "90/90 [==============================] - 124s 1s/step - loss: 0.0141\n",
      "Epoch 2/5\n",
      "90/90 [==============================] - 118s 1s/step - loss: 0.0054\n",
      "Epoch 3/5\n",
      "90/90 [==============================] - 114s 1s/step - loss: 0.0055\n",
      "Epoch 4/5\n",
      "90/90 [==============================] - 119s 1s/step - loss: 0.0053\n",
      "Epoch 5/5\n",
      "90/90 [==============================] - 113s 1s/step - loss: 0.0048\n"
     ]
    }
   ],
   "source": [
    "# fit the model\n",
    "\n",
    "history = model.fit(X_train,y_train,epochs=5,workers=2)"
   ]
  },
  {
   "cell_type": "code",
   "execution_count": 19,
   "id": "cd495c4e",
   "metadata": {},
   "outputs": [
    {
     "data": {
      "image/png": "[encoded data removed]",
      "text/plain": [
       "<Figure size 640x480 with 1 Axes>"
      ]
     },
     "metadata": {},
     "output_type": "display_data"
    }
   ],
   "source": [
    "# plot the loss function of the model for each epoch\n",
    "\n",
    "plt.plot(range(1,6),history.history['loss'])\n",
    "plt.show()"
   ]
  },
  {
   "cell_type": "code",
   "execution_count": 20,
   "id": "f58e0924",
   "metadata": {},
   "outputs": [
    {
     "name": "stdout",
     "output_type": "stream",
     "text": [
      "90/90 [==============================] - 50s 556ms/step\n"
     ]
    }
   ],
   "source": [
    "# predict on the train data\n",
    "\n",
    "y_pred = model.predict(X_train)"
   ]
  },
  {
   "cell_type": "code",
   "execution_count": 21,
   "id": "f0be3085",
   "metadata": {},
   "outputs": [
    {
     "data": {
      "text/plain": [
       "(2879, 1)"
      ]
     },
     "execution_count": 21,
     "metadata": {},
     "output_type": "execute_result"
    }
   ],
   "source": [
    "# shape of the y_pred\n",
    "\n",
    "y_pred.shape"
   ]
  },
  {
   "cell_type": "code",
   "execution_count": 22,
   "id": "58d3ab41",
   "metadata": {},
   "outputs": [
    {
     "name": "stdout",
     "output_type": "stream",
     "text": [
      "The RMSE is 0.07562689286746525\n"
     ]
    }
   ],
   "source": [
    "# calculate the loss of the model on the train data\n",
    "\n",
    "from sklearn.metrics import mean_squared_error\n",
    "\n",
    "loss = np.sqrt(mean_squared_error(y_train,y_pred))\n",
    "print('The RMSE is',loss)"
   ]
  },
  {
   "cell_type": "code",
   "execution_count": 23,
   "id": "9ca5528a",
   "metadata": {},
   "outputs": [],
   "source": [
    "# inverse transform the scaled data\n",
    "\n",
    "y_pred_inv = min_max.inverse_transform(y_pred) # bring the train predictions to original scale"
   ]
  },
  {
   "cell_type": "code",
   "execution_count": 24,
   "id": "b7a19002",
   "metadata": {},
   "outputs": [
    {
     "data": {
      "text/plain": [
       "(2879, 1)"
      ]
     },
     "execution_count": 24,
     "metadata": {},
     "output_type": "execute_result"
    }
   ],
   "source": [
    "# shape of the inverse transformed data\n",
    "\n",
    "y_pred_inv.shape"
   ]
  },
  {
   "cell_type": "code",
   "execution_count": 43,
   "id": "4bfbad59",
   "metadata": {},
   "outputs": [],
   "source": [
    "# scale the input data\n",
    "\n",
    "x = df_temp.rolling(window=25).mean()\n",
    "x.dropna(inplace=True)"
   ]
  },
  {
   "cell_type": "code",
   "execution_count": 44,
   "id": "5fcef06c",
   "metadata": {},
   "outputs": [
    {
     "data": {
      "image/png": "[encoded data removed]",
      "text/plain": [
       "<Figure size 640x480 with 1 Axes>"
      ]
     },
     "metadata": {},
     "output_type": "display_data"
    }
   ],
   "source": [
    "# plot the graph\n",
    "\n",
    "plt.plot(x[:],color='red',label='original')\n",
    "plt.plot(x.index[2000:2879],y_pred_inv[2000:],color='green',label='predicted')\n",
    "plt.legend()\n",
    "plt.title('Prediction of Oil Volume using LSTM')\n",
    "plt.xlabel('No. of days (2013-2021)')\n",
    "plt.ylabel('Oil Volume(m3/day)')\n",
    "plt.savefig('prediction.png')"
   ]
  },
  {
   "cell_type": "code",
   "execution_count": 41,
   "id": "428bb3df",
   "metadata": {},
   "outputs": [
    {
     "data": {
      "text/html": [
       "<div>\n",
       "<style scoped>\n",
       "    .dataframe tbody tr th:only-of-type {\n",
       "        vertical-align: middle;\n",
       "    }\n",
       "\n",
       "    .dataframe tbody tr th {\n",
       "        vertical-align: top;\n",
       "    }\n",
       "\n",
       "    .dataframe thead th {\n",
       "        text-align: right;\n",
       "    }\n",
       "</style>\n",
       "<table border=\"1\" class=\"dataframe\">\n",
       "  <thead>\n",
       "    <tr style=\"text-align: right;\">\n",
       "      <th></th>\n",
       "      <th>Actual</th>\n",
       "      <th>Prediction</th>\n",
       "      <th>Difference</th>\n",
       "    </tr>\n",
       "    <tr>\n",
       "      <th>date</th>\n",
       "      <th></th>\n",
       "      <th></th>\n",
       "      <th></th>\n",
       "    </tr>\n",
       "  </thead>\n",
       "  <tbody>\n",
       "    <tr>\n",
       "      <th>2018-06-25</th>\n",
       "      <td>12.20</td>\n",
       "      <td>11.35</td>\n",
       "      <td>0.848829</td>\n",
       "    </tr>\n",
       "    <tr>\n",
       "      <th>2018-06-26</th>\n",
       "      <td>12.16</td>\n",
       "      <td>11.40</td>\n",
       "      <td>0.763071</td>\n",
       "    </tr>\n",
       "    <tr>\n",
       "      <th>2018-06-27</th>\n",
       "      <td>12.12</td>\n",
       "      <td>11.44</td>\n",
       "      <td>0.682980</td>\n",
       "    </tr>\n",
       "    <tr>\n",
       "      <th>2018-06-28</th>\n",
       "      <td>12.08</td>\n",
       "      <td>11.47</td>\n",
       "      <td>0.613751</td>\n",
       "    </tr>\n",
       "    <tr>\n",
       "      <th>2018-06-29</th>\n",
       "      <td>12.12</td>\n",
       "      <td>11.48</td>\n",
       "      <td>0.638418</td>\n",
       "    </tr>\n",
       "    <tr>\n",
       "      <th>...</th>\n",
       "      <td>...</td>\n",
       "      <td>...</td>\n",
       "      <td>...</td>\n",
       "    </tr>\n",
       "    <tr>\n",
       "      <th>2020-11-15</th>\n",
       "      <td>6.76</td>\n",
       "      <td>5.45</td>\n",
       "      <td>1.305186</td>\n",
       "    </tr>\n",
       "    <tr>\n",
       "      <th>2020-11-16</th>\n",
       "      <td>6.68</td>\n",
       "      <td>5.47</td>\n",
       "      <td>1.206722</td>\n",
       "    </tr>\n",
       "    <tr>\n",
       "      <th>2020-11-17</th>\n",
       "      <td>6.56</td>\n",
       "      <td>5.49</td>\n",
       "      <td>1.065757</td>\n",
       "    </tr>\n",
       "    <tr>\n",
       "      <th>2020-11-18</th>\n",
       "      <td>6.52</td>\n",
       "      <td>5.52</td>\n",
       "      <td>0.999661</td>\n",
       "    </tr>\n",
       "    <tr>\n",
       "      <th>2020-11-19</th>\n",
       "      <td>6.36</td>\n",
       "      <td>5.55</td>\n",
       "      <td>0.807358</td>\n",
       "    </tr>\n",
       "  </tbody>\n",
       "</table>\n",
       "<p>879 rows × 3 columns</p>\n",
       "</div>"
      ],
      "text/plain": [
       "            Actual  Prediction  Difference\n",
       "date                                      \n",
       "2018-06-25   12.20       11.35    0.848829\n",
       "2018-06-26   12.16       11.40    0.763071\n",
       "2018-06-27   12.12       11.44    0.682980\n",
       "2018-06-28   12.08       11.47    0.613751\n",
       "2018-06-29   12.12       11.48    0.638418\n",
       "...            ...         ...         ...\n",
       "2020-11-15    6.76        5.45    1.305186\n",
       "2020-11-16    6.68        5.47    1.206722\n",
       "2020-11-17    6.56        5.49    1.065757\n",
       "2020-11-18    6.52        5.52    0.999661\n",
       "2020-11-19    6.36        5.55    0.807358\n",
       "\n",
       "[879 rows x 3 columns]"
      ]
     },
     "execution_count": 41,
     "metadata": {},
     "output_type": "execute_result"
    }
   ],
   "source": [
    "# generate the dataframe of the result\n",
    "\n",
    "original = x[2000:2879].values\n",
    "\n",
    "predicted = y_pred_inv[2000:2879]\n",
    "\n",
    "# dataframe\n",
    "\n",
    "result_df = pd.DataFrame()\n",
    "\n",
    "result_df['Actual'] = original\n",
    "\n",
    "result_df['Prediction'] = predicted\n",
    "\n",
    "result_df['Difference'] = result_df['Actual'] - result_df['Prediction']\n",
    "\n",
    "result_df['Prediction'] = result_df['Prediction'].apply(np.round,args=(2,)) \n",
    "\n",
    "# print the results dataframe\n",
    "\n",
    "result_df.set_index(df_temp.index[2000:2879])"
   ]
  },
  {
   "cell_type": "code",
   "execution_count": 42,
   "id": "540a8800",
   "metadata": {},
   "outputs": [],
   "source": [
    "# save the results dataframe\n",
    "\n",
    "result_df.to_csv('results.csv')"
   ]
  }
 ],
 "metadata": {
  "kernelspec": {
   "display_name": "Python 3 (ipykernel)",
   "language": "python",
   "name": "python3"
  },
  "language_info": {
   "codemirror_mode": {
    "name": "ipython",
    "version": 3
   },
   "file_extension": ".py",
   "mimetype": "text/x-python",
   "name": "python",
   "nbconvert_exporter": "python",
   "pygments_lexer": "ipython3",
   "version": "3.10.11"
  }
 },
 "nbformat": 4,
 "nbformat_minor": 5
}
